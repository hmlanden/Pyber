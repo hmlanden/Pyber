{
 "cells": [
  {
   "cell_type": "code",
   "execution_count": 1,
   "metadata": {
    "collapsed": true
   },
   "outputs": [],
   "source": [
    "# import libraries\n",
    "import numpy as np\n",
    "import pandas as pd\n",
    "import matplotlib.pyplot as plt\n",
    "import seaborn as sns "
   ]
  },
  {
   "cell_type": "code",
   "execution_count": 14,
   "metadata": {},
   "outputs": [
    {
     "data": {
      "text/html": [
       "<div>\n",
       "<style scoped>\n",
       "    .dataframe tbody tr th:only-of-type {\n",
       "        vertical-align: middle;\n",
       "    }\n",
       "\n",
       "    .dataframe tbody tr th {\n",
       "        vertical-align: top;\n",
       "    }\n",
       "\n",
       "    .dataframe thead th {\n",
       "        text-align: right;\n",
       "    }\n",
       "</style>\n",
       "<table border=\"1\" class=\"dataframe\">\n",
       "  <thead>\n",
       "    <tr style=\"text-align: right;\">\n",
       "      <th></th>\n",
       "      <th>city</th>\n",
       "      <th>driver_count</th>\n",
       "      <th>type</th>\n",
       "      <th>date</th>\n",
       "      <th>fare</th>\n",
       "      <th>ride_id</th>\n",
       "    </tr>\n",
       "  </thead>\n",
       "  <tbody>\n",
       "    <tr>\n",
       "      <th>0</th>\n",
       "      <td>Kelseyland</td>\n",
       "      <td>63</td>\n",
       "      <td>Urban</td>\n",
       "      <td>2016-08-19 04:27:52</td>\n",
       "      <td>5.51</td>\n",
       "      <td>6246006544795</td>\n",
       "    </tr>\n",
       "    <tr>\n",
       "      <th>1</th>\n",
       "      <td>Kelseyland</td>\n",
       "      <td>63</td>\n",
       "      <td>Urban</td>\n",
       "      <td>2016-04-17 06:59:50</td>\n",
       "      <td>5.54</td>\n",
       "      <td>7466473222333</td>\n",
       "    </tr>\n",
       "    <tr>\n",
       "      <th>2</th>\n",
       "      <td>Kelseyland</td>\n",
       "      <td>63</td>\n",
       "      <td>Urban</td>\n",
       "      <td>2016-05-04 15:06:07</td>\n",
       "      <td>30.54</td>\n",
       "      <td>2140501382736</td>\n",
       "    </tr>\n",
       "    <tr>\n",
       "      <th>3</th>\n",
       "      <td>Kelseyland</td>\n",
       "      <td>63</td>\n",
       "      <td>Urban</td>\n",
       "      <td>2016-01-25 20:44:56</td>\n",
       "      <td>12.08</td>\n",
       "      <td>1896987891309</td>\n",
       "    </tr>\n",
       "    <tr>\n",
       "      <th>4</th>\n",
       "      <td>Kelseyland</td>\n",
       "      <td>63</td>\n",
       "      <td>Urban</td>\n",
       "      <td>2016-08-09 18:19:47</td>\n",
       "      <td>17.91</td>\n",
       "      <td>8784212854829</td>\n",
       "    </tr>\n",
       "  </tbody>\n",
       "</table>\n",
       "</div>"
      ],
      "text/plain": [
       "         city  driver_count   type                 date   fare        ride_id\n",
       "0  Kelseyland            63  Urban  2016-08-19 04:27:52   5.51  6246006544795\n",
       "1  Kelseyland            63  Urban  2016-04-17 06:59:50   5.54  7466473222333\n",
       "2  Kelseyland            63  Urban  2016-05-04 15:06:07  30.54  2140501382736\n",
       "3  Kelseyland            63  Urban  2016-01-25 20:44:56  12.08  1896987891309\n",
       "4  Kelseyland            63  Urban  2016-08-09 18:19:47  17.91  8784212854829"
      ]
     },
     "execution_count": 14,
     "metadata": {},
     "output_type": "execute_result"
    }
   ],
   "source": [
    "#-------------------------------\n",
    "# Step 1: Read in and clean data file \n",
    "#-------------------------------\n",
    "\n",
    "# create dataframes to hold the data\n",
    "city_df = pd.read_csv('data/city_data.csv').dropna()\n",
    "rides_df = pd.read_csv('data/ride_data.csv').dropna()\n",
    "\n",
    "# create a merged dataframe, excluding any cities that we don't have complete data on\n",
    "cityPlusRides_df = city_df.merge(rides_df, on='city', how='left')\n",
    "cityPlusRides_df.head()"
   ]
  },
  {
   "cell_type": "code",
   "execution_count": 2,
   "metadata": {
    "collapsed": true
   },
   "outputs": [],
   "source": [
    "#-------------------------------\n",
    "# Step 2: Generate bubble plot \n",
    "#-------------------------------"
   ]
  },
  {
   "cell_type": "markdown",
   "metadata": {},
   "source": [
    "## Total Fares by City Type"
   ]
  },
  {
   "cell_type": "code",
   "execution_count": 119,
   "metadata": {},
   "outputs": [
    {
     "data": {
      "image/png": "[encoded data removed]",
      "text/plain": [
       "<matplotlib.figure.Figure at 0x1a1167d2b0>"
      ]
     },
     "metadata": {},
     "output_type": "display_data"
    }
   ],
   "source": [
    "#---------------------------------------------\n",
    "# Step 3: Generate fare by city type pie chart\n",
    "#---------------------------------------------\n",
    "\n",
    "# create dataframe\n",
    "fareByCity_df = pd.DataFrame(cityPlusRides_df.groupby(by='type')['fare'].sum())\n",
    "\n",
    "# create labels, wedge slices, colors, explode\n",
    "labels = ['Rural', 'Suburban', 'Urban']\n",
    "wedge_sizes = [fareByCity_df['fare'][0]/fareByCity_df['fare'].sum(),\\\n",
    "               fareByCity_df['fare'][1]/fareByCity_df['fare'].sum(),\\\n",
    "               fareByCity_df['fare'][2]/fareByCity_df['fare'].sum()]\n",
    "colors = ['gold', 'lightcoral', 'lightskyblue']\n",
    "explode = (0.1, 0, 0)\n",
    "\n",
    "# create and display pie chart\n",
    "fig1, ax1 = plt.subplots()\n",
    "ax1.pie(wedge_sizes, labels=labels, autopct='%1.2f%%', startangle=90, colors=colors, explode=explode)\n",
    "ax1.axis('equal')\n",
    "plt.legend(loc='lower right')\n",
    "plt.show()"
   ]
  },
  {
   "cell_type": "markdown",
   "metadata": {},
   "source": [
    "## Total Rides by City Type"
   ]
  },
  {
   "cell_type": "code",
   "execution_count": 127,
   "metadata": {},
   "outputs": [
    {
     "data": {
      "image/png": "[encoded data removed]",
      "text/plain": [
       "<matplotlib.figure.Figure at 0x1a11631cf8>"
      ]
     },
     "metadata": {},
     "output_type": "display_data"
    }
   ],
   "source": [
    "#---------------------------------------------\n",
    "# Step 4: Generate rides by city type pie chart\n",
    "#---------------------------------------------\n",
    "# create dataframe\n",
    "ridesByCity_df = pd.DataFrame(cityPlusRides_df.groupby(by='type')['ride_id'].count())\n",
    "\n",
    "# create labels, wedge slices, colors, explode\n",
    "labels = ['Rural', 'Suburban', 'Urban']\n",
    "wedge_sizes = [ridesByCity_df['ride_id']['Rural']/ridesByCity_df['ride_id'].sum(),\\\n",
    "               ridesByCity_df['ride_id']['Suburban']/ridesByCity_df['ride_id'].sum(),\\\n",
    "               ridesByCity_df['ride_id']['Urban']/ridesByCity_df['ride_id'].sum()]\n",
    "colors = ['gold', 'lightcoral', 'lightskyblue']\n",
    "explode = (0.1, 0, 0)\n",
    "\n",
    "# create and display pie chart\n",
    "fig1, ax1 = plt.subplots()\n",
    "ax1.pie(wedge_sizes, labels=labels, autopct='%1.2f%%', startangle=90, colors=colors, explode=explode)\n",
    "ax1.axis('equal')\n",
    "plt.legend(loc='lower left')\n",
    "plt.show()"
   ]
  },
  {
   "cell_type": "code",
   "execution_count": 129,
   "metadata": {
    "collapsed": true
   },
   "outputs": [],
   "source": [
    "## Total Drivers by City Type"
   ]
  },
  {
   "cell_type": "code",
   "execution_count": 128,
   "metadata": {},
   "outputs": [
    {
     "data": {
      "image/png": "[encoded data removed]",
      "text/plain": [
       "<matplotlib.figure.Figure at 0x1a18f95320>"
      ]
     },
     "metadata": {},
     "output_type": "display_data"
    }
   ],
   "source": [
    "#---------------------------------------------\n",
    "# Step 5: Generate drivers by city type pie chart\n",
    "#---------------------------------------------\n",
    "# create dataframe\n",
    "driversByCity_df = pd.DataFrame(cityPlusRides_df.groupby(by='type')['driver_count'].sum())\n",
    "\n",
    "# create labels, wedge slices, colors, explode\n",
    "labels = ['Rural', 'Suburban', 'Urban']\n",
    "wedge_sizes = [driversByCity_df['driver_count']['Rural']/driversByCity_df['driver_count'].sum(),\\\n",
    "               driversByCity_df['driver_count']['Suburban']/driversByCity_df['driver_count'].sum(),\\\n",
    "               driversByCity_df['driver_count']['Urban']/driversByCity_df['driver_count'].sum()]\n",
    "colors = ['gold', 'lightcoral', 'lightskyblue']\n",
    "explode = (0.1, 0, 0)\n",
    "\n",
    "# create and display pie chart\n",
    "fig1, ax1 = plt.subplots()\n",
    "ax1.pie(wedge_sizes, labels=labels, autopct='%1.2f%%', startangle=90, colors=colors, explode=explode)\n",
    "ax1.axis('equal')\n",
    "plt.legend(loc='lower left')\n",
    "plt.show()"
   ]
  }
 ],
 "metadata": {
  "kernelspec": {
   "display_name": "Python [conda env:PythonData]",
   "language": "python",
   "name": "conda-env-PythonData-py"
  }
 },
 "nbformat": 4,
 "nbformat_minor": 2
}
